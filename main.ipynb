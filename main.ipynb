{
 "cells": [
  {
   "cell_type": "markdown",
   "metadata": {},
   "source": [
    "# Data Analitics with San Francisco Restaurant Health Inspections dataset\n",
    "## Project with the goal in exercise sql, graph creation and analitcs skills.\n",
    "### Downloaded from: http://2016.padjo.org/tutorials/sqlite-data-starterpacks/#more-info-san-francisco-restaurant-health-inspections "
   ]
  },
  {
   "cell_type": "code",
   "execution_count": 1,
   "metadata": {},
   "outputs": [],
   "source": [
    "import pandas as pd\n",
    "import numpy as np\n",
    "import matplotlib as mpl\n",
    "import sqlite3 as sql\n",
    "from IPython.display import display"
   ]
  }
 ],
 "metadata": {
  "interpreter": {
   "hash": "6271a2d4a069e453187614e280ec07c9e39e03a7246f471efa73a2f30a79cf69"
  },
  "kernelspec": {
   "display_name": "Python 3.9.7 ('fundamentos-python')",
   "language": "python",
   "name": "python3"
  },
  "language_info": {
   "codemirror_mode": {
    "name": "ipython",
    "version": 3
   },
   "file_extension": ".py",
   "mimetype": "text/x-python",
   "name": "python",
   "nbconvert_exporter": "python",
   "pygments_lexer": "ipython3",
   "version": "3.9.7"
  },
  "orig_nbformat": 4
 },
 "nbformat": 4,
 "nbformat_minor": 2
}
